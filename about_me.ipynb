{
  "nbformat": 4,
  "nbformat_minor": 0,
  "metadata": {
    "colab": {
      "provenance": [],
      "toc_visible": true,
      "authorship_tag": "ABX9TyMlZDyPuGdXp/2yT+AAFlIh",
      "include_colab_link": true
    },
    "kernelspec": {
      "name": "python3",
      "display_name": "Python 3"
    },
    "language_info": {
      "name": "python"
    }
  },
  "cells": [
    {
      "cell_type": "markdown",
      "metadata": {
        "id": "view-in-github",
        "colab_type": "text"
      },
      "source": [
        "<a href=\"https://colab.research.google.com/github/mlabcnm/Exercises/blob/main/about_me.ipynb\" target=\"_parent\"><img src=\"https://colab.research.google.com/assets/colab-badge.svg\" alt=\"Open In Colab\"/></a>"
      ]
    },
    {
      "cell_type": "markdown",
      "source": [
        "BONUS: HTML magic!!\n",
        "\n",
        "Include the following information\n",
        "\n",
        "Your name\n",
        "Why did you sign up for this bootcamp?\n",
        "If you had your human body, but the head of an animal, what animal would you pick?\n",
        "If you had to delete all but 3 apps from your smartphone, which ones would you keep?\n",
        "As a kid, did you ever do something wrong but manage to pin it on your siblings? If so, what was it?\n",
        "What are your favorite podcasts? (Or if you're not a podcast person share your favorite tv show, music, or other category.)\n",
        "Anything else you want to share - be creative and have fun!\n",
        "\n",
        "Include at least one of each:\n",
        "\n",
        "Headings\n",
        "Bold and/or italic text\n",
        "Links\n",
        "Lists\n",
        "ordered (numbered)\n",
        "unordered\n",
        "Table\n",
        "Image - of you or something important to you!\n",
        "\n",
        "\n"
      ],
      "metadata": {
        "id": "YsW84ouU_MK2"
      }
    },
    {
      "cell_type": "markdown",
      "source": [
        "# About Me\n",
        "-  Name - Millie Adams Bellah\n",
        "- *I signed up for this bootcamp to expand my skills*.\n",
        "- **Id pick the head of a Dog becasue then I could bark at people.**\n",
        "  1. [Camera](https://www.merriam-webster.com/dictionary/cannon), Photos, calculator\n",
        "  2.I have no siblings so.......\n",
        "  3. I do not suscribe to any podcasts. Favorite Band The 1975\n",
        "\n",
        "[The 1975](https://www.youtube.com/results?search_query=the+1975)\n",
        "\n",
        "Bootcamps| Data| HTML|\n",
        " - | - | - |\n",
        "Passed | Failed | Withdrew\n",
        "graduate| not graduate| good luck\n",
        "\n"
      ],
      "metadata": {
        "id": "kH-OS33YZxUc"
      }
    },
    {
      "cell_type": "code",
      "source": [],
      "metadata": {
        "id": "DVznNSMSZ-75"
      },
      "execution_count": 7,
      "outputs": []
    }
  ]
}